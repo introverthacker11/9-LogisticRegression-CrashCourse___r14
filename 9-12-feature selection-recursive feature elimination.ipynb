{
 "cells": [
  {
   "cell_type": "markdown",
   "id": "c7cc5a38",
   "metadata": {},
   "source": [
    "###\n",
    "## Previous Code:\n",
    "###"
   ]
  },
  {
   "cell_type": "code",
   "execution_count": 1,
   "id": "4058dc6e",
   "metadata": {},
   "outputs": [],
   "source": [
    "import numpy as np\n",
    "import pandas as pd\n",
    "import matplotlib.pyplot as plt\n",
    "import seaborn as sns\n",
    "from sklearn.linear_model import LogisticRegression"
   ]
  },
  {
   "cell_type": "code",
   "execution_count": 2,
   "id": "13afb3d0",
   "metadata": {},
   "outputs": [
    {
     "name": "stdout",
     "output_type": "stream",
     "text": [
      "<class 'pandas.core.frame.DataFrame'>\n",
      "RangeIndex: 891 entries, 0 to 890\n",
      "Data columns (total 14 columns):\n",
      " #   Column      Non-Null Count  Dtype  \n",
      "---  ------      --------------  -----  \n",
      " 0   survived    891 non-null    int64  \n",
      " 1   sex         891 non-null    int64  \n",
      " 2   age         891 non-null    int64  \n",
      " 3   sibsp       891 non-null    int64  \n",
      " 4   parch       891 non-null    int64  \n",
      " 5   fare        891 non-null    float64\n",
      " 6   adult_male  891 non-null    int64  \n",
      " 7   alone       891 non-null    int64  \n",
      " 8   embarked_C  891 non-null    int64  \n",
      " 9   embarked_Q  891 non-null    int64  \n",
      " 10  who_child   891 non-null    int64  \n",
      " 11  who_man     891 non-null    int64  \n",
      " 12  pclass_1    891 non-null    int64  \n",
      " 13  pclass_2    891 non-null    int64  \n",
      "dtypes: float64(1), int64(13)\n",
      "memory usage: 97.6 KB\n"
     ]
    }
   ],
   "source": [
    "ttn = pd.read_csv('titanic-1hotencoding.csv')\n",
    "ttn.info()"
   ]
  },
  {
   "cell_type": "code",
   "execution_count": 3,
   "id": "c0047bf0",
   "metadata": {},
   "outputs": [],
   "source": [
    "input_cols = list(ttn.columns[1:])\n",
    "target_cols = 'survived'\n"
   ]
  },
  {
   "cell_type": "code",
   "execution_count": 4,
   "id": "29f5f355",
   "metadata": {},
   "outputs": [],
   "source": [
    "X = ttn[input_cols]\n",
    "y = ttn[target_cols]"
   ]
  },
  {
   "cell_type": "code",
   "execution_count": 5,
   "id": "c0c36640",
   "metadata": {},
   "outputs": [],
   "source": [
    "from sklearn.model_selection import train_test_split\n",
    "from sklearn.metrics import accuracy_score\n"
   ]
  },
  {
   "cell_type": "code",
   "execution_count": 6,
   "id": "dfd97c24",
   "metadata": {},
   "outputs": [],
   "source": [
    "X_train, X_test, y_train, y_test = train_test_split(X, y, test_size = 0.3, random_state = 42)\n"
   ]
  },
  {
   "cell_type": "code",
   "execution_count": 7,
   "id": "40528b8e",
   "metadata": {},
   "outputs": [
    {
     "data": {
      "text/html": [
       "<style>#sk-container-id-1 {color: black;}#sk-container-id-1 pre{padding: 0;}#sk-container-id-1 div.sk-toggleable {background-color: white;}#sk-container-id-1 label.sk-toggleable__label {cursor: pointer;display: block;width: 100%;margin-bottom: 0;padding: 0.3em;box-sizing: border-box;text-align: center;}#sk-container-id-1 label.sk-toggleable__label-arrow:before {content: \"▸\";float: left;margin-right: 0.25em;color: #696969;}#sk-container-id-1 label.sk-toggleable__label-arrow:hover:before {color: black;}#sk-container-id-1 div.sk-estimator:hover label.sk-toggleable__label-arrow:before {color: black;}#sk-container-id-1 div.sk-toggleable__content {max-height: 0;max-width: 0;overflow: hidden;text-align: left;background-color: #f0f8ff;}#sk-container-id-1 div.sk-toggleable__content pre {margin: 0.2em;color: black;border-radius: 0.25em;background-color: #f0f8ff;}#sk-container-id-1 input.sk-toggleable__control:checked~div.sk-toggleable__content {max-height: 200px;max-width: 100%;overflow: auto;}#sk-container-id-1 input.sk-toggleable__control:checked~label.sk-toggleable__label-arrow:before {content: \"▾\";}#sk-container-id-1 div.sk-estimator input.sk-toggleable__control:checked~label.sk-toggleable__label {background-color: #d4ebff;}#sk-container-id-1 div.sk-label input.sk-toggleable__control:checked~label.sk-toggleable__label {background-color: #d4ebff;}#sk-container-id-1 input.sk-hidden--visually {border: 0;clip: rect(1px 1px 1px 1px);clip: rect(1px, 1px, 1px, 1px);height: 1px;margin: -1px;overflow: hidden;padding: 0;position: absolute;width: 1px;}#sk-container-id-1 div.sk-estimator {font-family: monospace;background-color: #f0f8ff;border: 1px dotted black;border-radius: 0.25em;box-sizing: border-box;margin-bottom: 0.5em;}#sk-container-id-1 div.sk-estimator:hover {background-color: #d4ebff;}#sk-container-id-1 div.sk-parallel-item::after {content: \"\";width: 100%;border-bottom: 1px solid gray;flex-grow: 1;}#sk-container-id-1 div.sk-label:hover label.sk-toggleable__label {background-color: #d4ebff;}#sk-container-id-1 div.sk-serial::before {content: \"\";position: absolute;border-left: 1px solid gray;box-sizing: border-box;top: 0;bottom: 0;left: 50%;z-index: 0;}#sk-container-id-1 div.sk-serial {display: flex;flex-direction: column;align-items: center;background-color: white;padding-right: 0.2em;padding-left: 0.2em;position: relative;}#sk-container-id-1 div.sk-item {position: relative;z-index: 1;}#sk-container-id-1 div.sk-parallel {display: flex;align-items: stretch;justify-content: center;background-color: white;position: relative;}#sk-container-id-1 div.sk-item::before, #sk-container-id-1 div.sk-parallel-item::before {content: \"\";position: absolute;border-left: 1px solid gray;box-sizing: border-box;top: 0;bottom: 0;left: 50%;z-index: -1;}#sk-container-id-1 div.sk-parallel-item {display: flex;flex-direction: column;z-index: 1;position: relative;background-color: white;}#sk-container-id-1 div.sk-parallel-item:first-child::after {align-self: flex-end;width: 50%;}#sk-container-id-1 div.sk-parallel-item:last-child::after {align-self: flex-start;width: 50%;}#sk-container-id-1 div.sk-parallel-item:only-child::after {width: 0;}#sk-container-id-1 div.sk-dashed-wrapped {border: 1px dashed gray;margin: 0 0.4em 0.5em 0.4em;box-sizing: border-box;padding-bottom: 0.4em;background-color: white;}#sk-container-id-1 div.sk-label label {font-family: monospace;font-weight: bold;display: inline-block;line-height: 1.2em;}#sk-container-id-1 div.sk-label-container {text-align: center;}#sk-container-id-1 div.sk-container {/* jupyter's `normalize.less` sets `[hidden] { display: none; }` but bootstrap.min.css set `[hidden] { display: none !important; }` so we also need the `!important` here to be able to override the default hidden behavior on the sphinx rendered scikit-learn.org. See: https://github.com/scikit-learn/scikit-learn/issues/21755 */display: inline-block !important;position: relative;}#sk-container-id-1 div.sk-text-repr-fallback {display: none;}</style><div id=\"sk-container-id-1\" class=\"sk-top-container\"><div class=\"sk-text-repr-fallback\"><pre>LogisticRegression(max_iter=1000)</pre><b>In a Jupyter environment, please rerun this cell to show the HTML representation or trust the notebook. <br />On GitHub, the HTML representation is unable to render, please try loading this page with nbviewer.org.</b></div><div class=\"sk-container\" hidden><div class=\"sk-item\"><div class=\"sk-estimator sk-toggleable\"><input class=\"sk-toggleable__control sk-hidden--visually\" id=\"sk-estimator-id-1\" type=\"checkbox\" checked><label for=\"sk-estimator-id-1\" class=\"sk-toggleable__label sk-toggleable__label-arrow\">LogisticRegression</label><div class=\"sk-toggleable__content\"><pre>LogisticRegression(max_iter=1000)</pre></div></div></div></div></div>"
      ],
      "text/plain": [
       "LogisticRegression(max_iter=1000)"
      ]
     },
     "execution_count": 7,
     "metadata": {},
     "output_type": "execute_result"
    }
   ],
   "source": [
    "model = LogisticRegression(max_iter = 1000)\n",
    "model.fit(X_train, y_train)"
   ]
  },
  {
   "cell_type": "code",
   "execution_count": 8,
   "id": "6d298bf7",
   "metadata": {},
   "outputs": [
    {
     "data": {
      "text/plain": [
       "array([0, 0, 0, 1, 1, 1, 1, 0, 1, 1, 0, 0, 0, 0, 0, 1, 0, 1, 0, 0, 0, 0,\n",
       "       1, 0, 0, 0, 0, 0, 0, 1, 0, 1, 0, 1, 0, 0, 0, 1, 1, 0, 0, 0, 0, 0,\n",
       "       1, 0, 0, 0, 0, 0, 1, 1, 0, 1, 0, 1, 0, 1, 1, 1, 0, 1, 1, 0, 0, 1,\n",
       "       0, 0, 0, 1, 1, 1, 0, 1, 0, 0, 1, 1, 1, 1, 0, 1, 1, 0, 0, 0, 1, 1,\n",
       "       0, 0, 1, 0, 0, 0, 0, 0, 0, 0, 1, 0, 0, 0, 1, 0, 0, 0, 1, 0, 0, 0,\n",
       "       1, 0, 1, 0, 1, 0, 0, 0, 1, 0, 0, 1, 1, 1, 0, 0, 1, 0, 1, 0, 1, 0,\n",
       "       0, 1, 0, 1, 1, 0, 0, 1, 0, 1, 0, 0, 0, 1, 0, 0, 1, 0, 0, 0, 0, 1,\n",
       "       0, 0, 0, 1, 1, 1, 0, 0, 0, 1, 0, 0, 0, 1, 0, 0, 0, 1, 0, 1, 0, 0,\n",
       "       0, 1, 1, 0, 0, 0, 0, 0, 1, 0, 0, 0, 0, 1, 0, 0, 0, 0, 1, 1, 1, 0,\n",
       "       1, 0, 0, 1, 1, 1, 0, 1, 0, 0, 0, 0, 1, 0, 1, 0, 0, 0, 1, 0, 1, 0,\n",
       "       0, 1, 0, 0, 0, 1, 0, 1, 1, 1, 0, 1, 0, 1, 0, 1, 1, 1, 1, 0, 0, 1,\n",
       "       0, 1, 0, 0, 0, 0, 0, 0, 1, 0, 0, 0, 0, 0, 0, 1, 0, 1, 1, 0, 1, 0,\n",
       "       0, 0, 0, 0], dtype=int64)"
      ]
     },
     "execution_count": 8,
     "metadata": {},
     "output_type": "execute_result"
    }
   ],
   "source": [
    "y_pred = model.predict(X_test)\n",
    "y_pred"
   ]
  },
  {
   "cell_type": "code",
   "execution_count": 9,
   "id": "67f2d38e",
   "metadata": {},
   "outputs": [
    {
     "data": {
      "text/html": [
       "<div>\n",
       "<style scoped>\n",
       "    .dataframe tbody tr th:only-of-type {\n",
       "        vertical-align: middle;\n",
       "    }\n",
       "\n",
       "    .dataframe tbody tr th {\n",
       "        vertical-align: top;\n",
       "    }\n",
       "\n",
       "    .dataframe thead th {\n",
       "        text-align: right;\n",
       "    }\n",
       "</style>\n",
       "<table border=\"1\" class=\"dataframe\">\n",
       "  <thead>\n",
       "    <tr style=\"text-align: right;\">\n",
       "      <th></th>\n",
       "      <th>Orignal Values</th>\n",
       "      <th>Predicted Values</th>\n",
       "    </tr>\n",
       "  </thead>\n",
       "  <tbody>\n",
       "    <tr>\n",
       "      <th>709</th>\n",
       "      <td>1</td>\n",
       "      <td>0</td>\n",
       "    </tr>\n",
       "    <tr>\n",
       "      <th>439</th>\n",
       "      <td>0</td>\n",
       "      <td>0</td>\n",
       "    </tr>\n",
       "    <tr>\n",
       "      <th>840</th>\n",
       "      <td>0</td>\n",
       "      <td>0</td>\n",
       "    </tr>\n",
       "    <tr>\n",
       "      <th>720</th>\n",
       "      <td>1</td>\n",
       "      <td>1</td>\n",
       "    </tr>\n",
       "    <tr>\n",
       "      <th>39</th>\n",
       "      <td>1</td>\n",
       "      <td>1</td>\n",
       "    </tr>\n",
       "    <tr>\n",
       "      <th>...</th>\n",
       "      <td>...</td>\n",
       "      <td>...</td>\n",
       "    </tr>\n",
       "    <tr>\n",
       "      <th>821</th>\n",
       "      <td>1</td>\n",
       "      <td>0</td>\n",
       "    </tr>\n",
       "    <tr>\n",
       "      <th>633</th>\n",
       "      <td>0</td>\n",
       "      <td>0</td>\n",
       "    </tr>\n",
       "    <tr>\n",
       "      <th>456</th>\n",
       "      <td>0</td>\n",
       "      <td>0</td>\n",
       "    </tr>\n",
       "    <tr>\n",
       "      <th>500</th>\n",
       "      <td>0</td>\n",
       "      <td>0</td>\n",
       "    </tr>\n",
       "    <tr>\n",
       "      <th>430</th>\n",
       "      <td>1</td>\n",
       "      <td>0</td>\n",
       "    </tr>\n",
       "  </tbody>\n",
       "</table>\n",
       "<p>268 rows × 2 columns</p>\n",
       "</div>"
      ],
      "text/plain": [
       "     Orignal Values  Predicted Values\n",
       "709               1                 0\n",
       "439               0                 0\n",
       "840               0                 0\n",
       "720               1                 1\n",
       "39                1                 1\n",
       "..              ...               ...\n",
       "821               1                 0\n",
       "633               0                 0\n",
       "456               0                 0\n",
       "500               0                 0\n",
       "430               1                 0\n",
       "\n",
       "[268 rows x 2 columns]"
      ]
     },
     "execution_count": 9,
     "metadata": {},
     "output_type": "execute_result"
    }
   ],
   "source": [
    "pd.DataFrame({'Orignal Values' : y_test, 'Predicted Values' : model.predict(X_test)})"
   ]
  },
  {
   "cell_type": "code",
   "execution_count": 10,
   "id": "68d880dd",
   "metadata": {},
   "outputs": [
    {
     "data": {
      "text/plain": [
       "0.8171641791044776"
      ]
     },
     "execution_count": 10,
     "metadata": {},
     "output_type": "execute_result"
    }
   ],
   "source": [
    "model.score(X_test, y_test)"
   ]
  },
  {
   "cell_type": "markdown",
   "id": "e6b901d5",
   "metadata": {},
   "source": [
    "###\n",
    "## Recursive Feature Elimination:\n",
    "###"
   ]
  },
  {
   "cell_type": "markdown",
   "id": "5f64f0b0",
   "metadata": {},
   "source": [
    "### Feature Section | Recursive Feature Elimination\n",
    "\n",
    "Given an external estimator that asssigns weight to features, recursive feature elimination (RFE) is to select features by recursively considering small and smaller sets of features. First, the estimator is trained on the initial set of features and the importance of each feature is obtained either through a coef_attribute or through a feature_importances_attribute. Then, tha least important features are pruned from current set of features. That procedure is recursively repeated on the pruned set until the desired number of features to select is eventually reached.\n",
    "\n",
    "**Simple Explanation:**\n",
    "\n",
    "Recursive Feature Elimination (RFE) is a process used in machine learning to select the most important features (variables) for building a predictive model. Here's a simpler explanation:\n",
    "\n",
    "**1) Start with All Features:** Begin with all the available features in your dataset.\n",
    "\n",
    "**2) Train the Model:** Use a machine learning model (like a decision tree, support vector machine, etc.) to learn from the data. This model can tell you how important each feature is for making predictions.\n",
    "\n",
    "**3) Rank the Features:** Look at the importance scores given by the model. Some features will be more important for making accurate predictions, while others will be less important.\n",
    "\n",
    "**4) Remove the Least Important Features:** Identify the least important feature and remove it from the dataset.\n",
    "\n",
    "**5) Repeat the Process:** With the reduced set of features, train the model again, rank the features, and remove the least important one.\n",
    "\n",
    "**6) Continue Until Desired Number of Features:** Keep repeating steps 4 and 5 until you are left with the desired number of features.\n",
    "\n",
    "For example, if you start with 10 features and want to end up with 3 features, you will repeat the process until you have eliminated 7 features, leaving you with the 3 most important ones.\n",
    "\n",
    "The idea is to gradually eliminate the less important features, focusing more and more on the most important ones, thereby simplifying the model and potentially improving its performance."
   ]
  },
  {
   "attachments": {
    "image.png": {
     "image/png": "[encoded data removed]"
    }
   },
   "cell_type": "markdown",
   "id": "bf515f82",
   "metadata": {},
   "source": [
    "![image.png](attachment:image.png)"
   ]
  },
  {
   "cell_type": "markdown",
   "id": "a929a8d9",
   "metadata": {},
   "source": [
    "###\n",
    "## Importing feature_selection\n",
    "###"
   ]
  },
  {
   "cell_type": "code",
   "execution_count": 13,
   "id": "7372b044",
   "metadata": {},
   "outputs": [],
   "source": [
    "from sklearn.feature_selection import RFE"
   ]
  },
  {
   "cell_type": "markdown",
   "id": "fde5b8ce",
   "metadata": {},
   "source": [
    "###\n",
    "## Splitting Dataset Into Seen & Unseen Data\n",
    "###"
   ]
  },
  {
   "cell_type": "code",
   "execution_count": 14,
   "id": "0780acc6",
   "metadata": {},
   "outputs": [],
   "source": [
    "X_train, X_test, y_train, y_test = train_test_split(X, y, test_size = 0.3, random_state = 42)"
   ]
  },
  {
   "cell_type": "markdown",
   "id": "2c513869",
   "metadata": {},
   "source": [
    "###\n",
    "## Training Algorithm\n",
    "###"
   ]
  },
  {
   "cell_type": "code",
   "execution_count": 15,
   "id": "a287b38f",
   "metadata": {},
   "outputs": [
    {
     "name": "stdout",
     "output_type": "stream",
     "text": [
      "Fitting estimator with 13 features.\n",
      "Fitting estimator with 12 features.\n",
      "Fitting estimator with 11 features.\n",
      "Fitting estimator with 10 features.\n",
      "Fitting estimator with 9 features.\n",
      "Fitting estimator with 8 features.\n",
      "Fitting estimator with 7 features.\n",
      "Fitting estimator with 6 features.\n"
     ]
    },
    {
     "data": {
      "text/html": [
       "<style>#sk-container-id-2 {color: black;}#sk-container-id-2 pre{padding: 0;}#sk-container-id-2 div.sk-toggleable {background-color: white;}#sk-container-id-2 label.sk-toggleable__label {cursor: pointer;display: block;width: 100%;margin-bottom: 0;padding: 0.3em;box-sizing: border-box;text-align: center;}#sk-container-id-2 label.sk-toggleable__label-arrow:before {content: \"▸\";float: left;margin-right: 0.25em;color: #696969;}#sk-container-id-2 label.sk-toggleable__label-arrow:hover:before {color: black;}#sk-container-id-2 div.sk-estimator:hover label.sk-toggleable__label-arrow:before {color: black;}#sk-container-id-2 div.sk-toggleable__content {max-height: 0;max-width: 0;overflow: hidden;text-align: left;background-color: #f0f8ff;}#sk-container-id-2 div.sk-toggleable__content pre {margin: 0.2em;color: black;border-radius: 0.25em;background-color: #f0f8ff;}#sk-container-id-2 input.sk-toggleable__control:checked~div.sk-toggleable__content {max-height: 200px;max-width: 100%;overflow: auto;}#sk-container-id-2 input.sk-toggleable__control:checked~label.sk-toggleable__label-arrow:before {content: \"▾\";}#sk-container-id-2 div.sk-estimator input.sk-toggleable__control:checked~label.sk-toggleable__label {background-color: #d4ebff;}#sk-container-id-2 div.sk-label input.sk-toggleable__control:checked~label.sk-toggleable__label {background-color: #d4ebff;}#sk-container-id-2 input.sk-hidden--visually {border: 0;clip: rect(1px 1px 1px 1px);clip: rect(1px, 1px, 1px, 1px);height: 1px;margin: -1px;overflow: hidden;padding: 0;position: absolute;width: 1px;}#sk-container-id-2 div.sk-estimator {font-family: monospace;background-color: #f0f8ff;border: 1px dotted black;border-radius: 0.25em;box-sizing: border-box;margin-bottom: 0.5em;}#sk-container-id-2 div.sk-estimator:hover {background-color: #d4ebff;}#sk-container-id-2 div.sk-parallel-item::after {content: \"\";width: 100%;border-bottom: 1px solid gray;flex-grow: 1;}#sk-container-id-2 div.sk-label:hover label.sk-toggleable__label {background-color: #d4ebff;}#sk-container-id-2 div.sk-serial::before {content: \"\";position: absolute;border-left: 1px solid gray;box-sizing: border-box;top: 0;bottom: 0;left: 50%;z-index: 0;}#sk-container-id-2 div.sk-serial {display: flex;flex-direction: column;align-items: center;background-color: white;padding-right: 0.2em;padding-left: 0.2em;position: relative;}#sk-container-id-2 div.sk-item {position: relative;z-index: 1;}#sk-container-id-2 div.sk-parallel {display: flex;align-items: stretch;justify-content: center;background-color: white;position: relative;}#sk-container-id-2 div.sk-item::before, #sk-container-id-2 div.sk-parallel-item::before {content: \"\";position: absolute;border-left: 1px solid gray;box-sizing: border-box;top: 0;bottom: 0;left: 50%;z-index: -1;}#sk-container-id-2 div.sk-parallel-item {display: flex;flex-direction: column;z-index: 1;position: relative;background-color: white;}#sk-container-id-2 div.sk-parallel-item:first-child::after {align-self: flex-end;width: 50%;}#sk-container-id-2 div.sk-parallel-item:last-child::after {align-self: flex-start;width: 50%;}#sk-container-id-2 div.sk-parallel-item:only-child::after {width: 0;}#sk-container-id-2 div.sk-dashed-wrapped {border: 1px dashed gray;margin: 0 0.4em 0.5em 0.4em;box-sizing: border-box;padding-bottom: 0.4em;background-color: white;}#sk-container-id-2 div.sk-label label {font-family: monospace;font-weight: bold;display: inline-block;line-height: 1.2em;}#sk-container-id-2 div.sk-label-container {text-align: center;}#sk-container-id-2 div.sk-container {/* jupyter's `normalize.less` sets `[hidden] { display: none; }` but bootstrap.min.css set `[hidden] { display: none !important; }` so we also need the `!important` here to be able to override the default hidden behavior on the sphinx rendered scikit-learn.org. See: https://github.com/scikit-learn/scikit-learn/issues/21755 */display: inline-block !important;position: relative;}#sk-container-id-2 div.sk-text-repr-fallback {display: none;}</style><div id=\"sk-container-id-2\" class=\"sk-top-container\"><div class=\"sk-text-repr-fallback\"><pre>RFE(estimator=LogisticRegression(max_iter=1000), n_features_to_select=5,\n",
       "    verbose=1)</pre><b>In a Jupyter environment, please rerun this cell to show the HTML representation or trust the notebook. <br />On GitHub, the HTML representation is unable to render, please try loading this page with nbviewer.org.</b></div><div class=\"sk-container\" hidden><div class=\"sk-item sk-dashed-wrapped\"><div class=\"sk-label-container\"><div class=\"sk-label sk-toggleable\"><input class=\"sk-toggleable__control sk-hidden--visually\" id=\"sk-estimator-id-2\" type=\"checkbox\" ><label for=\"sk-estimator-id-2\" class=\"sk-toggleable__label sk-toggleable__label-arrow\">RFE</label><div class=\"sk-toggleable__content\"><pre>RFE(estimator=LogisticRegression(max_iter=1000), n_features_to_select=5,\n",
       "    verbose=1)</pre></div></div></div><div class=\"sk-parallel\"><div class=\"sk-parallel-item\"><div class=\"sk-item\"><div class=\"sk-label-container\"><div class=\"sk-label sk-toggleable\"><input class=\"sk-toggleable__control sk-hidden--visually\" id=\"sk-estimator-id-3\" type=\"checkbox\" ><label for=\"sk-estimator-id-3\" class=\"sk-toggleable__label sk-toggleable__label-arrow\">estimator: LogisticRegression</label><div class=\"sk-toggleable__content\"><pre>LogisticRegression(max_iter=1000)</pre></div></div></div><div class=\"sk-serial\"><div class=\"sk-item\"><div class=\"sk-estimator sk-toggleable\"><input class=\"sk-toggleable__control sk-hidden--visually\" id=\"sk-estimator-id-4\" type=\"checkbox\" ><label for=\"sk-estimator-id-4\" class=\"sk-toggleable__label sk-toggleable__label-arrow\">LogisticRegression</label><div class=\"sk-toggleable__content\"><pre>LogisticRegression(max_iter=1000)</pre></div></div></div></div></div></div></div></div></div></div>"
      ],
      "text/plain": [
       "RFE(estimator=LogisticRegression(max_iter=1000), n_features_to_select=5,\n",
       "    verbose=1)"
      ]
     },
     "execution_count": 15,
     "metadata": {},
     "output_type": "execute_result"
    }
   ],
   "source": [
    "model1 = LogisticRegression(max_iter = 1000)\n",
    "rfe = RFE(estimator = model1, n_features_to_select = 5, verbose = 1)\n",
    "rfe.fit(X_train, y_train)"
   ]
  },
  {
   "cell_type": "markdown",
   "id": "ca79b173",
   "metadata": {},
   "source": [
    "###\n",
    "## This'll Show You The Selected Features\n",
    "###"
   ]
  },
  {
   "cell_type": "code",
   "execution_count": 17,
   "id": "ea6222a6",
   "metadata": {},
   "outputs": [
    {
     "data": {
      "text/plain": [
       "Index(['adult_male', 'embarked_C', 'who_man', 'pclass_1', 'pclass_2'], dtype='object')"
      ]
     },
     "execution_count": 17,
     "metadata": {},
     "output_type": "execute_result"
    }
   ],
   "source": [
    "\n",
    "rfe.support_\n",
    "selected_col = X_train.columns[rfe.support_]\n",
    "selected_col "
   ]
  },
  {
   "cell_type": "markdown",
   "id": "842af892",
   "metadata": {},
   "source": [
    "###\n",
    "## Finding Best Features\n",
    "###"
   ]
  },
  {
   "cell_type": "code",
   "execution_count": 18,
   "id": "d2351a3a",
   "metadata": {},
   "outputs": [
    {
     "name": "stdout",
     "output_type": "stream",
     "text": [
      "Fitting estimator with 13 features.\n",
      "Fitting estimator with 12 features.\n",
      "Fitting estimator with 11 features.\n",
      "Fitting estimator with 10 features.\n",
      "Fitting estimator with 9 features.\n",
      "Fitting estimator with 8 features.\n",
      "Fitting estimator with 7 features.\n",
      "Fitting estimator with 6 features.\n"
     ]
    },
    {
     "data": {
      "text/plain": [
       "0.7947761194029851"
      ]
     },
     "execution_count": 18,
     "metadata": {},
     "output_type": "execute_result"
    }
   ],
   "source": [
    "\n",
    "X_train, X_test, y_train, y_test = train_test_split(X, y, test_size = 0.3, random_state = 42)\n",
    "model1 = LogisticRegression(max_iter = 1000)\n",
    "rfe = RFE(estimator = model1, n_features_to_select = 5, verbose = 1)\n",
    "rfe.fit(X_train, y_train)\n",
    "selected_col = X_train.columns[rfe.support_]\n",
    "\n",
    "model1.fit(X_train[selected_col], y_train)\n",
    "model1.score(X_test[selected_col], y_test)"
   ]
  },
  {
   "cell_type": "markdown",
   "id": "99e9543f",
   "metadata": {},
   "source": [
    "###\n",
    "## Programming To Find Best Features\n",
    "###"
   ]
  },
  {
   "cell_type": "code",
   "execution_count": 19,
   "id": "12fef158",
   "metadata": {},
   "outputs": [],
   "source": [
    "def find_best_feature(n):\n",
    "    X_train, X_test, y_train, y_test = train_test_split(X, y, test_size = 0.3, random_state = 42)\n",
    "    model1 = LogisticRegression(max_iter = 1000)\n",
    "    rfe = RFE(estimator = model1, n_features_to_select = n, verbose = 0)\n",
    "    rfe.fit(X_train, y_train)\n",
    "    selected_col = X_train.columns[rfe.support_]\n",
    "\n",
    "    model1.fit(X_train[selected_col], y_train)\n",
    "    score = model1.score(X_test[selected_col], y_test)\n",
    "    print('Selected Columns:', list(selected_col))\n",
    "    print(f'Score: {score * 100:.3f} %')\n",
    "    print(f'n: {n}')\n",
    "    print('-' * 50)"
   ]
  },
  {
   "cell_type": "code",
   "execution_count": 20,
   "id": "c47e3330",
   "metadata": {},
   "outputs": [
    {
     "name": "stdout",
     "output_type": "stream",
     "text": [
      "1\n",
      "2\n",
      "3\n",
      "4\n",
      "5\n",
      "6\n",
      "7\n",
      "8\n",
      "9\n",
      "10\n",
      "11\n",
      "12\n"
     ]
    },
    {
     "data": {
      "text/plain": [
       "13"
      ]
     },
     "execution_count": 20,
     "metadata": {},
     "output_type": "execute_result"
    }
   ],
   "source": [
    "for i in range(1, X.shape[1]):\n",
    "    print(i)\n",
    "X.shape[1]"
   ]
  },
  {
   "cell_type": "code",
   "execution_count": 21,
   "id": "ee8bf138",
   "metadata": {},
   "outputs": [
    {
     "name": "stdout",
     "output_type": "stream",
     "text": [
      "1) \n",
      "Selected Columns: ['who_man']\n",
      "Score: 79.478 %\n",
      "n: 1\n",
      "--------------------------------------------------\n",
      "2) \n",
      "Selected Columns: ['who_man', 'pclass_1']\n",
      "Score: 79.478 %\n",
      "n: 2\n",
      "--------------------------------------------------\n",
      "3) \n",
      "Selected Columns: ['adult_male', 'who_man', 'pclass_1']\n",
      "Score: 79.478 %\n",
      "n: 3\n",
      "--------------------------------------------------\n",
      "4) \n",
      "Selected Columns: ['adult_male', 'who_man', 'pclass_1', 'pclass_2']\n",
      "Score: 79.478 %\n",
      "n: 4\n",
      "--------------------------------------------------\n",
      "5) \n",
      "Selected Columns: ['adult_male', 'embarked_C', 'who_man', 'pclass_1', 'pclass_2']\n",
      "Score: 79.478 %\n",
      "n: 5\n",
      "--------------------------------------------------\n",
      "6) \n",
      "Selected Columns: ['sibsp', 'adult_male', 'embarked_C', 'who_man', 'pclass_1', 'pclass_2']\n",
      "Score: 82.463 %\n",
      "n: 6\n",
      "--------------------------------------------------\n",
      "7) \n",
      "Selected Columns: ['sibsp', 'adult_male', 'alone', 'embarked_C', 'who_man', 'pclass_1', 'pclass_2']\n",
      "Score: 80.970 %\n",
      "n: 7\n",
      "--------------------------------------------------\n",
      "8) \n",
      "Selected Columns: ['sibsp', 'parch', 'adult_male', 'alone', 'embarked_C', 'who_man', 'pclass_1', 'pclass_2']\n",
      "Score: 82.836 %\n",
      "n: 8\n",
      "--------------------------------------------------\n",
      "9) \n",
      "Selected Columns: ['sibsp', 'parch', 'adult_male', 'alone', 'embarked_C', 'embarked_Q', 'who_man', 'pclass_1', 'pclass_2']\n",
      "Score: 82.836 %\n",
      "n: 9\n",
      "--------------------------------------------------\n",
      "10) \n",
      "Selected Columns: ['sibsp', 'parch', 'adult_male', 'alone', 'embarked_C', 'embarked_Q', 'who_child', 'who_man', 'pclass_1', 'pclass_2']\n",
      "Score: 82.836 %\n",
      "n: 10\n",
      "--------------------------------------------------\n",
      "11) \n",
      "Selected Columns: ['sex', 'sibsp', 'parch', 'adult_male', 'alone', 'embarked_C', 'embarked_Q', 'who_child', 'who_man', 'pclass_1', 'pclass_2']\n",
      "Score: 82.836 %\n",
      "n: 11\n",
      "--------------------------------------------------\n",
      "12) \n",
      "Selected Columns: ['sex', 'age', 'sibsp', 'parch', 'adult_male', 'alone', 'embarked_C', 'embarked_Q', 'who_child', 'who_man', 'pclass_1', 'pclass_2']\n",
      "Score: 82.836 %\n",
      "n: 12\n",
      "--------------------------------------------------\n",
      "13) \n",
      "Selected Columns: ['sex', 'age', 'sibsp', 'parch', 'fare', 'adult_male', 'alone', 'embarked_C', 'embarked_Q', 'who_child', 'who_man', 'pclass_1', 'pclass_2']\n",
      "Score: 81.716 %\n",
      "n: 13\n",
      "--------------------------------------------------\n"
     ]
    }
   ],
   "source": [
    "for i in range(1, X.shape[1] + 1):\n",
    "    print(f'{i}) ')\n",
    "    find_best_feature(i)"
   ]
  },
  {
   "cell_type": "markdown",
   "id": "e60f0505",
   "metadata": {},
   "source": [
    "###\n",
    "## Observation: \n",
    "**Above codes shows us that these values of n are better for our model Accuracy: 8, 9, 10, 11, 12**"
   ]
  }
 ],
 "metadata": {
  "kernelspec": {
   "display_name": "Python 3 (ipykernel)",
   "language": "python",
   "name": "python3"
  },
  "language_info": {
   "codemirror_mode": {
    "name": "ipython",
    "version": 3
   },
   "file_extension": ".py",
   "mimetype": "text/x-python",
   "name": "python",
   "nbconvert_exporter": "python",
   "pygments_lexer": "ipython3",
   "version": "3.11.5"
  }
 },
 "nbformat": 4,
 "nbformat_minor": 5
}
